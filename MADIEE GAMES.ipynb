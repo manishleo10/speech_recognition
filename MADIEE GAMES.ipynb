{
 "cells": [
  {
   "cell_type": "code",
   "execution_count": null,
   "id": "4d18059e",
   "metadata": {},
   "outputs": [],
   "source": [
    "# import required modules\n",
    "from os import path\n",
    "from pydub import AudioSegment\n",
    "\n",
    "# assign files\n",
    "input_file = r\"C:\\Users\\manis\\Downloads\\voice data.m4a\"\n",
    "output_file = \"voice data.wav\"\n",
    "\n",
    "# convert mp3 file to wav file\n",
    "sound = AudioSegment.from_file(input_file,  format= 'm4a')\n",
    "sound.export(output_file, format=\"wav\")\n"
   ]
  },
  {
   "cell_type": "code",
   "execution_count": 1,
   "id": "93af220c",
   "metadata": {},
   "outputs": [
    {
     "name": "stdout",
     "output_type": "stream",
     "text": [
      "The audio file contains: then awesome ok would you be then the locking this meeting in so that we don't have more participants was once the division of team is done and structure that ok what does it is it ok if people if more people join in the game you can eat I can't we have a bird eating people why don't we start off with register rules of the game in trouble that most people would know about it should be playing codename dies it is a fun board game just enjoy yourself said they would just walk into the rules are anytime using the game for us should work just wanted longer making me want to lock the meeting that have people join in case you want to end then once you start the make a locket now will be joining as both of joining as operated but one to one among you will be joining us by Master for each of the thing that you will have read spymaster and the blue team will abuse by master and basically the aim of each team is the figure out where their agents are people in this case the blue team has 9 spy agent under 18 as an accident somewhere in this 25 date of birth to their location is protected by secret word and only the respective teams master no specific location for example I will I will make someone itam item Primary Ka Master\n"
     ]
    }
   ],
   "source": [
    "#importing speech recognition library\n",
    "import speech_recognition as sr\n",
    "\n",
    "AUDIO_FILE = (\"voice data.wav\")\n",
    "\n",
    "# using the audio file as the audio source\n",
    "\n",
    "r = sr.Recognizer()\n",
    "\n",
    "with sr.AudioFile(AUDIO_FILE) as source:\n",
    "\taudio = r.record(source)\n",
    "# using google api engine to recognize the audio and convert into text    \n",
    "try:\n",
    "\tprint(\"The audio file contains: \" + r.recognize_google(audio))\n",
    "\n",
    "except sr.UnknownValueError:\n",
    "\tprint(\"Google Speech Recognition could not understand audio\")\n",
    "\n",
    "except sr.RequestError as e:\n",
    "\tprint(\"Could not request results from Google Speech Recognition service; {0}\".format(e))\n"
   ]
  },
  {
   "cell_type": "code",
   "execution_count": 3,
   "id": "dfea6211",
   "metadata": {},
   "outputs": [],
   "source": [
    "# storing the converted text\n",
    "text = r.recognize_google(audio)"
   ]
  },
  {
   "cell_type": "markdown",
   "id": "61ef2499",
   "metadata": {},
   "source": [
    "## Task 1 - Count the repetition of words"
   ]
  },
  {
   "cell_type": "code",
   "execution_count": 4,
   "id": "34b4e1ad",
   "metadata": {},
   "outputs": [
    {
     "name": "stdout",
     "output_type": "stream",
     "text": [
      "then : 3\n",
      "awesome : 1\n",
      "ok : 3\n",
      "would : 3\n",
      "you : 6\n",
      "be : 4\n",
      "the : 13\n",
      "locking : 1\n",
      "this : 3\n",
      "meeting : 2\n",
      "in : 6\n",
      "so : 1\n",
      "that : 5\n",
      "we : 3\n",
      "don't : 2\n",
      "have : 4\n",
      "more : 2\n",
      "participants : 1\n",
      "was : 1\n",
      "once : 2\n",
      "division : 1\n",
      "of : 6\n",
      "team : 3\n",
      "is : 5\n",
      "done : 1\n",
      "and : 3\n",
      "structure : 1\n",
      "what : 1\n",
      "does : 1\n",
      "it : 4\n",
      "if : 2\n",
      "people : 6\n",
      "join : 2\n",
      "game : 4\n",
      "can : 1\n",
      "eat : 1\n",
      "I : 4\n",
      "can't : 1\n",
      "a : 4\n",
      "bird : 1\n",
      "eating : 1\n",
      "why : 1\n",
      "start : 2\n",
      "off : 1\n",
      "with : 1\n",
      "register : 1\n",
      "rules : 2\n",
      "trouble : 1\n",
      "most : 1\n",
      "know : 1\n",
      "about : 1\n",
      "should : 2\n",
      "playing : 1\n",
      "codename : 1\n",
      "dies : 1\n",
      "fun : 1\n",
      "board : 1\n",
      "just : 3\n",
      "enjoy : 1\n",
      "yourself : 1\n",
      "said : 1\n",
      "they : 1\n",
      "walk : 1\n",
      "into : 1\n",
      "are : 2\n",
      "anytime : 1\n",
      "using : 1\n",
      "for : 3\n",
      "us : 2\n",
      "work : 1\n",
      "wanted : 1\n",
      "longer : 1\n",
      "making : 1\n",
      "me : 1\n",
      "want : 2\n",
      "to : 4\n",
      "lock : 1\n",
      "case : 2\n",
      "end : 1\n",
      "make : 2\n",
      "locket : 1\n",
      "now : 1\n",
      "will : 5\n",
      "joining : 3\n",
      "as : 3\n",
      "both : 1\n",
      "operated : 1\n",
      "but : 1\n",
      "one : 2\n",
      "among : 1\n",
      "by : 2\n",
      "Master : 2\n",
      "each : 2\n",
      "thing : 1\n",
      "red : 1\n",
      "spymaster : 2\n",
      "dablu : 1\n",
      "3 : 1\n",
      "Bela : 1\n",
      "blue : 2\n",
      "basically : 1\n",
      "aim : 1\n",
      "figure : 1\n",
      "out : 1\n",
      "where : 1\n",
      "their : 2\n",
      "agents : 1\n",
      "has : 1\n",
      "9 : 1\n",
      "spy : 1\n",
      "agent : 1\n",
      "under : 1\n",
      "18 : 1\n",
      "85 : 1\n",
      "accident : 1\n",
      "somewhere : 1\n",
      "25 : 1\n",
      "date : 1\n",
      "birth : 1\n",
      "location : 2\n",
      "protected : 1\n",
      "secret : 1\n",
      "word : 1\n",
      "only : 1\n",
      "respective : 1\n",
      "teams : 1\n",
      "master : 1\n",
      "no : 1\n",
      "specific : 1\n",
      "example : 1\n",
      "someone : 1\n",
      "itam : 1\n",
      "item : 1\n",
      "Primary : 1\n",
      "Ka : 1\n"
     ]
    }
   ],
   "source": [
    "# creatint an empty dic\n",
    "d = dict()\n",
    "\n",
    "# Split the line into words\n",
    "words = text.split(\" \")\n",
    "\n",
    "for word in words:\n",
    "\tif word in d:\n",
    "\t\td[word] = d[word] + 1\n",
    "\telse:\n",
    "\t\td[word] = 1\n",
    "\n",
    "# Print the contents of dictionary\n",
    "for key in list(d.keys()):\n",
    "\tprint(key, \":\", d[key])"
   ]
  },
  {
   "cell_type": "markdown",
   "id": "dfa02bbb",
   "metadata": {},
   "source": [
    "## Task 2 - Count the number of different words used"
   ]
  },
  {
   "cell_type": "code",
   "execution_count": 8,
   "id": "2fc5cd42",
   "metadata": {},
   "outputs": [
    {
     "name": "stdout",
     "output_type": "stream",
     "text": [
      " Count of number of different words used-135\n"
     ]
    }
   ],
   "source": [
    "unique = set(words) \n",
    "print(' Count of number of different words used-'+str(len(unique)))"
   ]
  },
  {
   "cell_type": "markdown",
   "id": "bd04b5b7",
   "metadata": {},
   "source": [
    "## Task 3 - Number of words spoken per minute"
   ]
  },
  {
   "cell_type": "code",
   "execution_count": 9,
   "id": "af19150f",
   "metadata": {},
   "outputs": [
    {
     "name": "stdout",
     "output_type": "stream",
     "text": [
      "Total Duration: 0:3:8\n"
     ]
    }
   ],
   "source": [
    "import scipy\n",
    "from scipy.io import wavfile\n",
    "\n",
    "# function to convert the information into\n",
    "# some readable format\n",
    "def output_duration(length):\n",
    "\thours = length // 3600 # calculate in hours\n",
    "\tlength %= 3600\n",
    "\tmins = length // 60 # calculate in minutes\n",
    "\tlength %= 60\n",
    "\tseconds = length # calculate in seconds\n",
    "\n",
    "\treturn hours, mins, seconds\n",
    "\n",
    "sample_rate, data = wavfile.read('voice data.wav')\n",
    "\n",
    "len_data = len(data) # holds length of the numpy array\n",
    "\n",
    "t = len_data / sample_rate # returns duration but in floats\n",
    "\n",
    "hours, mins, seconds = output_duration(int(t))\n",
    "print('Total Duration: {}:{}:{}'.format(hours, mins, seconds))\n"
   ]
  },
  {
   "cell_type": "code",
   "execution_count": 10,
   "id": "fbaf53be",
   "metadata": {},
   "outputs": [
    {
     "name": "stdout",
     "output_type": "stream",
     "text": [
      "Speaking rate(wpm)=81\n"
     ]
    }
   ],
   "source": [
    "# ##Speaking rate (wpm) = total words / number of minutes\n",
    "total_words = len(text.split())\n",
    "wpm = len(text.split())/mins\n",
    "print('Speaking rate(wpm)='+ str(round(wpm)))"
   ]
  },
  {
   "cell_type": "code",
   "execution_count": null,
   "id": "785c293c",
   "metadata": {},
   "outputs": [],
   "source": []
  },
  {
   "cell_type": "code",
   "execution_count": null,
   "id": "3982785d",
   "metadata": {},
   "outputs": [],
   "source": []
  },
  {
   "cell_type": "code",
   "execution_count": null,
   "id": "6e04e2a7",
   "metadata": {},
   "outputs": [],
   "source": []
  },
  {
   "cell_type": "code",
   "execution_count": null,
   "id": "8f3dfeb8",
   "metadata": {},
   "outputs": [],
   "source": []
  },
  {
   "cell_type": "code",
   "execution_count": null,
   "id": "8c878b13",
   "metadata": {},
   "outputs": [],
   "source": []
  }
 ],
 "metadata": {
  "kernelspec": {
   "display_name": "Python 3 (ipykernel)",
   "language": "python",
   "name": "python3"
  },
  "language_info": {
   "codemirror_mode": {
    "name": "ipython",
    "version": 3
   },
   "file_extension": ".py",
   "mimetype": "text/x-python",
   "name": "python",
   "nbconvert_exporter": "python",
   "pygments_lexer": "ipython3",
   "version": "3.8.12"
  }
 },
 "nbformat": 4,
 "nbformat_minor": 5
}
